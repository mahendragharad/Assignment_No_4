{
  "nbformat": 4,
  "nbformat_minor": 0,
  "metadata": {
    "colab": {
      "provenance": []
    },
    "kernelspec": {
      "name": "python3",
      "display_name": "Python 3"
    },
    "language_info": {
      "name": "python"
    }
  },
  "cells": [
    {
      "cell_type": "markdown",
      "source": [
        "**1. What exactly is []?**\n",
        "\n",
        "**ANS :In Python, [] is used to denote an empty list. A list is a data structure that can hold a collection of items, such as numbers, strings, or even other lists. The square brackets [] are used to define a list literal.**"
      ],
      "metadata": {
        "id": "SDreHBG0ZU3O"
      }
    },
    {
      "cell_type": "markdown",
      "source": [
        "\n",
        "\n",
        "---\n",
        "\n"
      ],
      "metadata": {
        "id": "hlhLQVLSZ8iy"
      }
    },
    {
      "cell_type": "markdown",
      "source": [
        "**2. In a list of values stored in a variable called spam, how would you assign the value &#39;hello&#39; as the\n",
        "third value? (Assume [2, 4, 6, 8, 10] are in spam.)**\n",
        "\n",
        "**ANS : To assign the value 'hello' as the third value in the list stored in the variable spam, you can use indexing and assignment. Since indexing in Python starts from 0, the third value has an index of 2.**"
      ],
      "metadata": {
        "id": "9LMFHVk6Z9qZ"
      }
    },
    {
      "cell_type": "code",
      "execution_count": 1,
      "metadata": {
        "id": "09AzjwBDZNRH"
      },
      "outputs": [],
      "source": [
        "spam = [2, 4, 6, 8, 10]\n",
        "spam[2] = 'hello'\n"
      ]
    },
    {
      "cell_type": "markdown",
      "source": [
        "\n",
        "\n",
        "---\n",
        "\n"
      ],
      "metadata": {
        "id": "2aITRka8ap3a"
      }
    },
    {
      "cell_type": "markdown",
      "source": [
        "**Let&#39;s pretend the spam includes the list [&#39;a&#39;, &#39;b&#39;, &#39;c&#39;, &#39;d&#39;] for the next three queries.**\n",
        "\n",
        "**3. What is the value of spam[int(int(&#39;3&#39; * 2) / 11)]?**\n",
        "\n",
        "**ANS : 'd'**"
      ],
      "metadata": {
        "id": "6yDi6XducHj_"
      }
    },
    {
      "cell_type": "markdown",
      "source": [
        "**4. What is the value of spam[-1]?**\n",
        "\n",
        "**ANS : 'd'**"
      ],
      "metadata": {
        "id": "CGD4YAV9caT-"
      }
    },
    {
      "cell_type": "markdown",
      "source": [
        "**5. What is the value of spam[:2]?**\n",
        "\n",
        "**ANS : ['a' ,'b']**"
      ],
      "metadata": {
        "id": "qJDCXXbocoO_"
      }
    },
    {
      "cell_type": "markdown",
      "source": [
        "\n",
        "\n",
        "---\n",
        "\n"
      ],
      "metadata": {
        "id": "zrYedz0FdJ4I"
      }
    },
    {
      "cell_type": "markdown",
      "source": [
        "**Let&#39;s pretend bacon has the list [3.14, &#39;cat,&#39; 11, &#39;cat,&#39; True] for the next three questions.**\n",
        "\n",
        "**6. What is the value of bacon.index(&#39;cat&#39;)?**\n",
        "\n",
        "**ANS : 1**"
      ],
      "metadata": {
        "id": "LgYQmG_ZdOFn"
      }
    },
    {
      "cell_type": "markdown",
      "source": [
        "**7. How does bacon.append(99) change the look of the list value in bacon?**\n",
        "\n",
        "**ANS : [3.14, 'cat', 11, 'cat', True, 99] Append function just add the 99 at the end​**"
      ],
      "metadata": {
        "id": "Oo7wS_q4eEbz"
      }
    },
    {
      "cell_type": "markdown",
      "source": [
        "**8. How does bacon.remove(&#39;cat&#39;) change the look of the list in bacon?**\n",
        "\n",
        "**ANS : [3.14, 11, 'cat', True, 99] remove function remove the 'cat' element from the list which encountered first**"
      ],
      "metadata": {
        "id": "-D_k9TUHee7w"
      }
    },
    {
      "cell_type": "markdown",
      "source": [
        "****"
      ],
      "metadata": {
        "id": "lRBWnxokarAn"
      }
    },
    {
      "cell_type": "markdown",
      "source": [
        "**9. What are the list concatenation and list replication operators?**\n",
        "\n",
        "**ANS :**\n",
        "\n",
        "* **List Concatenation Operator (+):**\n",
        "\n",
        "**The + operator is used to concatenate or combine two or more lists into a single list. When you use the + operator between two lists, it creates a new list that contains all the elements from the operands.**\n",
        "\n",
        "* **List Replication Operator (*):**\n",
        "\n",
        "**The * operator is used for list replication or repetition. It allows you to create a new list by repeating the elements of an existing list a certain number of times.**"
      ],
      "metadata": {
        "id": "3AZ3aYjufFIf"
      }
    },
    {
      "cell_type": "markdown",
      "source": [
        "\n",
        "\n",
        "---\n",
        "\n"
      ],
      "metadata": {
        "id": "HoQap0xsfzMa"
      }
    },
    {
      "cell_type": "markdown",
      "source": [
        "**10. What is difference between the list methods append() and insert()?**\n",
        "\n",
        "**ANS :**\n",
        "\n",
        "* **append() method:**\n",
        " \n",
        "**The append() method is used to add an element to the end of a list.**\n",
        "\n",
        "* **insert() method:**\n",
        "\n",
        "**The insert() method is used to add an element at a specific position within the list. It takes two arguments: the index at which the element should be inserted and the element itself.**"
      ],
      "metadata": {
        "id": "gqnyEus1f1AB"
      }
    },
    {
      "cell_type": "markdown",
      "source": [
        "\n",
        "\n",
        "---\n",
        "\n"
      ],
      "metadata": {
        "id": "-lJTuC9Cgg1H"
      }
    },
    {
      "cell_type": "markdown",
      "source": [
        "**11. What are the two methods for removing items from a list?**\n",
        "\n",
        "**ANS :**\n",
        "\n",
        "* **remove() method:**\n",
        "\n",
        "**The remove() method is used to remove the first occurrence of a specified element from the list. It takes a single argument, which is the element to be removed.**\n",
        "\n",
        "* **pop() method:**\n",
        "\n",
        "**The pop() method is used to remove an element from a list at a specified index.**"
      ],
      "metadata": {
        "id": "fm_PQcccgiCF"
      }
    },
    {
      "cell_type": "markdown",
      "source": [
        "\n",
        "\n",
        "---\n",
        "\n"
      ],
      "metadata": {
        "id": "3mMco6yVhHPv"
      }
    },
    {
      "cell_type": "markdown",
      "source": [
        "**12. Describe how list values and string values are identical.**\n",
        "\n",
        "* **Sequential Structure:**\n",
        "\n",
        "**Both lists and strings have a sequential structure where elements or characters are ordered and accessed by their index. This means that you can access individual elements/characters within a list or string using indexing.**\n",
        "\n",
        "* **Mutable vs. Immutable:**\n",
        "\n",
        "**Lists are mutable, which means their elements can be modified, added, or removed after creation. On the other hand, strings are immutable, meaning their characters cannot be changed once the string is created. Any operation that modifies a string creates a new string object.**\n",
        "\n",
        "* **Iteration:**\n",
        "\n",
        "**Lists and strings can be iterated over using loops or other iterative constructs in Python. You can iterate over each element in a list or each character in a string and perform operations on them.**\n",
        "\n",
        "* **Slicing:**\n",
        "\n",
        "**Both lists and strings support slicing operations, allowing you to extract a portion of the sequence by specifying a range of indices. Slicing returns a new list or string containing the selected elements or characters.**\n",
        "\n",
        "* **Length:**\n",
        "\n",
        "**You can determine the length of a list or string using the len() function. It returns the number of elements in a list and the number of characters in a string.**\n",
        "\n",
        "* **Concatenation and Replication:**\n",
        "\n",
        "**Both lists and strings support concatenation and replication operations. Concatenation allows you to combine two or more lists or strings to create a new one, while replication allows you to repeat a list or string multiple times.**"
      ],
      "metadata": {
        "id": "rRdcxCLkhI6A"
      }
    },
    {
      "cell_type": "markdown",
      "source": [
        "\n",
        "\n",
        "---\n",
        "\n"
      ],
      "metadata": {
        "id": "qVDyNn9yiX7B"
      }
    },
    {
      "cell_type": "markdown",
      "source": [
        "**13. What&#39;s the difference between tuples and lists?**\n",
        "\n",
        "**ANS :**\n",
        "\n",
        "* **Mutability:**\n",
        "\n",
        "**Lists are mutable, meaning you can modify, add, or remove elements after the list is created. You can change the order of elements, update specific values, append or remove items from a list.**\n",
        "\n",
        "**Tuples, on the other hand, are immutable. Once a tuple is created, you cannot modify its elements. Tuples are designed to be static and represent fixed collections of items.**\n",
        "\n",
        "* **Syntax:**\n",
        "\n",
        "**Lists are defined using square brackets [], and elements are separated by commas. For example: my_list = [1, 2, 3].**\n",
        "\n",
        "**Tuples are defined using parentheses (), and elements are also separated by commas. For example: my_tuple = (1, 2, 3).**"
      ],
      "metadata": {
        "id": "MN08nHnfiizk"
      }
    },
    {
      "cell_type": "markdown",
      "source": [
        "\n",
        "\n",
        "---\n",
        "\n"
      ],
      "metadata": {
        "id": "WFkNkDhmjHry"
      }
    },
    {
      "cell_type": "markdown",
      "source": [
        "**14. How do you type a tuple value that only contains the integer 42?**\n",
        "\n",
        "**ANS : my_tuple = (42,)**"
      ],
      "metadata": {
        "id": "LByAIexUjI74"
      }
    },
    {
      "cell_type": "markdown",
      "source": [
        "\n",
        "\n",
        "---\n",
        "\n"
      ],
      "metadata": {
        "id": "RvuRzXRLjedk"
      }
    },
    {
      "cell_type": "markdown",
      "source": [
        "**15. How do you get a list value&#39;s tuple form? How do you get a tuple value&#39;s list form?**"
      ],
      "metadata": {
        "id": "a66VgEDgj163"
      }
    },
    {
      "cell_type": "code",
      "source": [
        "# List to tuple\n",
        "my_list = [1, 2, 3]\n",
        "my_tuple = tuple(my_list)\n",
        "print(my_tuple) \n"
      ],
      "metadata": {
        "id": "WVN8Tn-oj3U9",
        "outputId": "683db017-7a5b-43d1-ad43-17c67f5807fe",
        "colab": {
          "base_uri": "https://localhost:8080/"
        }
      },
      "execution_count": 2,
      "outputs": [
        {
          "output_type": "stream",
          "name": "stdout",
          "text": [
            "(1, 2, 3)\n"
          ]
        }
      ]
    },
    {
      "cell_type": "code",
      "source": [
        "# tuple to list \n",
        "my_tuple = (1,2,3) \n",
        "my_list = list(my_tuple)\n",
        "print(my_list)"
      ],
      "metadata": {
        "id": "OwOO4q9jj-mb"
      },
      "execution_count": null,
      "outputs": []
    },
    {
      "cell_type": "markdown",
      "source": [
        "****"
      ],
      "metadata": {
        "id": "xsccjjhbjffe"
      }
    },
    {
      "cell_type": "markdown",
      "source": [
        "**16. Variables that &quot;contain&quot; list values are not necessarily lists themselves. Instead, what do they\n",
        "contain?**\n",
        "\n",
        "**ANS : In Python, objects such as lists are stored in memory, and variables act as labels or references to those objects. When you assign a list to a variable, the variable holds a reference to the memory location where the list object is stored.**"
      ],
      "metadata": {
        "id": "BvfVFeS5kRuk"
      }
    },
    {
      "cell_type": "markdown",
      "source": [
        "\n",
        "\n",
        "---\n",
        "\n"
      ],
      "metadata": {
        "id": "NmwkdURbk7cU"
      }
    },
    {
      "cell_type": "markdown",
      "source": [
        "**17. How do you distinguish between copy.copy() and copy.deepcopy()?**\n",
        "\n",
        "**ANS :**\n",
        "\n",
        "* **copy.copy():**\n",
        "\n",
        "**The copy.copy() function performs a shallow copy of an object. It creates a new object and copies the references of the original object's elements.**\n",
        "\n",
        "* **copy.deepcopy():**\n",
        "\n",
        "**The copy.deepcopy() function performs a deep copy of an object. It creates a new object and recursively copies all the objects found within the original object, including nested objects.**"
      ],
      "metadata": {
        "id": "93KHSN6mk8tU"
      }
    },
    {
      "cell_type": "markdown",
      "source": [
        "\n",
        "\n",
        "---\n",
        "\n"
      ],
      "metadata": {
        "id": "g4BxX8RXl-pM"
      }
    }
  ]
}